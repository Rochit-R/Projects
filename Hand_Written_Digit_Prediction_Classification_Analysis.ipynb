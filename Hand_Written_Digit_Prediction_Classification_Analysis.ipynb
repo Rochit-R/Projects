{
  "nbformat": 4,
  "nbformat_minor": 0,
  "metadata": {
    "colab": {
      "provenance": [],
      "authorship_tag": "ABX9TyPzM6yTy479e3n/NWnUMZEN",
      "include_colab_link": true
    },
    "kernelspec": {
      "name": "python3",
      "display_name": "Python 3"
    },
    "language_info": {
      "name": "python"
    }
  },
  "cells": [
    {
      "cell_type": "markdown",
      "metadata": {
        "id": "view-in-github",
        "colab_type": "text"
      },
      "source": [
        "<a href=\"https://colab.research.google.com/github/Rochit-R/Projects/blob/main/Hand_Written_Digit_Prediction_Classification_Analysis.ipynb\" target=\"_parent\"><img src=\"https://colab.research.google.com/assets/colab-badge.svg\" alt=\"Open In Colab\"/></a>"
      ]
    },
    {
      "cell_type": "code",
      "execution_count": null,
      "metadata": {
        "colab": {
          "base_uri": "https://localhost:8080/",
          "height": 469
        },
        "id": "r27VdvwsBQ1K",
        "outputId": "12c1980b-efeb-46ef-deb0-e9fc55175521"
      },
      "outputs": [
        {
          "output_type": "stream",
          "name": "stdout",
          "text": [
            "Accuracy: 97.13%\n"
          ]
        },
        {
          "output_type": "display_data",
          "data": {
            "text/plain": [
              "<Figure size 640x480 with 1 Axes>"
            ],
            "image/png": "[encoded data removed]"
          },
          "metadata": {}
        }
      ],
      "source": [
        "import numpy as np\n",
        "import pandas as pd\n",
        "import matplotlib.pyplot as plt\n",
        "from sklearn.datasets import fetch_openml\n",
        "from sklearn.model_selection import train_test_split\n",
        "from sklearn.neighbors import KNeighborsClassifier\n",
        "from sklearn.metrics import accuracy_score\n",
        "\n",
        "try:\n",
        "    mnist = pd.read_csv('mnist_784.csv')\n",
        "    X = mnist.drop('class', axis=1) / 255.0\n",
        "    y = mnist['class'].astype(int)\n",
        "except FileNotFoundError:\n",
        "    mnist = fetch_openml('mnist_784', parser='auto', as_frame=True)\n",
        "    mnist.frame.to_csv('mnist_784.csv', index=False)\n",
        "    X = mnist.data / 255.0\n",
        "    y = mnist.target.astype(int)\n",
        "\n",
        "X = X / 255.0\n",
        "y = y.astype(int)\n",
        "\n",
        "X_train, X_test, y_train, y_test = train_test_split(X, y, test_size=0.2, random_state=42)\n",
        "\n",
        "knn.fit(X_train, y_train)\n",
        "\n",
        "y_pred = knn.predict(X_test)\n",
        "print(f'Accuracy: {accuracy_score(y_test, y_pred) * 100:.2f}%')\n",
        "\n",
        "index = 0\n",
        "sample = X_test.iloc[index].values.reshape(1, -1)\n",
        "plt.imshow(sample.reshape(28, 28), cmap='gray')\n",
        "plt.title(f'Predicted: {knn.predict(pd.DataFrame(sample, columns=X_test.columns))[0]}, Actual: {y_test.iloc[index]}')\n",
        "plt.show()\n"
      ]
    },
    {
      "cell_type": "code",
      "source": [],
      "metadata": {
        "id": "fBdJ8iYxBRt9"
      },
      "execution_count": null,
      "outputs": []
    }
  ]
}